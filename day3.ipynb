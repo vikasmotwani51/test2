{
 "cells": [
  {
   "cell_type": "code",
   "execution_count": 6,
   "metadata": {},
   "outputs": [
    {
     "data": {
      "text/plain": [
       "False"
      ]
     },
     "execution_count": 6,
     "metadata": {},
     "output_type": "execute_result"
    }
   ],
   "source": [
    "# Given no is prime or not\n",
    "def isprime(n):\n",
    "    flag= True\n",
    "    for i in range(2,n-1):\n",
    "        if n%i==0:\n",
    "            flag= False\n",
    "            return flag\n",
    "    return flag\n",
    "isprime(8)"
   ]
  },
  {
   "cell_type": "code",
   "execution_count": 26,
   "metadata": {},
   "outputs": [
    {
     "name": "stdout",
     "output_type": "stream",
     "text": [
      "3\n",
      "0\n",
      "5\n",
      "0\n",
      "7\n",
      "0\n",
      "0\n",
      "0\n",
      "11\n",
      "0\n",
      "13\n",
      "0\n",
      "0\n",
      "0\n",
      "17\n",
      "0\n",
      "19\n",
      "0\n",
      "0\n",
      "0\n",
      "23\n",
      "0\n"
     ]
    }
   ],
   "source": [
    "# find primes from 1 to n\n",
    "def findprime(n):\n",
    "    for i in range(3,n):\n",
    "        flag=i\n",
    "        for j in range(2,i-1):\n",
    "            if i%j==0:\n",
    "                flag=0\n",
    "        print(flag)\n",
    "                \n",
    "             \n",
    "findprime(25)     "
   ]
  },
  {
   "cell_type": "code",
   "execution_count": 28,
   "metadata": {},
   "outputs": [
    {
     "name": "stdout",
     "output_type": "stream",
     "text": [
      "1 \n",
      "1 \n"
     ]
    }
   ],
   "source": [
    "# perfect number\n",
    "def factorslist(n):\n",
    "    sum=0\n",
    "    for i in range(1,n+1):\n",
    "        if n%i==0:\n",
    "            sum=sum+i\n",
    "        return sum\n",
    "def isperfect(n):\n",
    "    if factorslist(n)==n:\n",
    "        return True\n",
    "    return False\n",
    "def generateperf(lb,ub):\n",
    "    for x in range(lb,ub+1):\n",
    "        if isperfect(x):\n",
    "            print(x,end=\" \")\n",
    "    print()\n",
    "    return\n",
    "\n",
    "generateperf(1,10)\n",
    "generateperf(1,10000)"
   ]
  },
  {
   "cell_type": "code",
   "execution_count": 6,
   "metadata": {},
   "outputs": [
    {
     "name": "stdout",
     "output_type": "stream",
     "text": [
      "y n\n",
      "6\n"
     ]
    }
   ],
   "source": [
    "s1=\"Python\"\n",
    "print(s1[1],s1[5])\n",
    "print(len(s1))"
   ]
  },
  {
   "cell_type": "code",
   "execution_count": 1,
   "metadata": {},
   "outputs": [
    {
     "name": "stdout",
     "output_type": "stream",
     "text": [
      "P T N "
     ]
    }
   ],
   "source": [
    "#Ascii\n",
    "#A-Z : 65-90\n",
    "#a-z : 97-122\n",
    "# 0-9 : 48-57\n",
    "# space : 32\n",
    "def printupper(x):\n",
    "    for i in range(len(x)):\n",
    "        if ord(x[i])>=65 and ord(x[i])<=90:\n",
    "            print(x[i],end=\" \")\n",
    "    return\n",
    "printupper(\"PyThoN\")"
   ]
  },
  {
   "cell_type": "code",
   "execution_count": 7,
   "metadata": {},
   "outputs": [
    {
     "name": "stdout",
     "output_type": "stream",
     "text": [
      "Programming\n",
      "Same count\n"
     ]
    }
   ],
   "source": [
    "#Function to print \"same count\" if the count of\n",
    "#upper and lower case is same\n",
    "#print \"programming\" if not same\n",
    "#eg: PyThOn -- 3 P T O (upper case) -- same count\n",
    "#              3 y h n (lower case) \n",
    "def defcase(x):\n",
    "    count=0\n",
    "    for i in range(len(x)):\n",
    "        if ord(x[i])>=65 and ord(x[i])<=90:\n",
    "            count= count+1\n",
    "    if count==len(x)-count:\n",
    "        print(\"Same count\")\n",
    "    else:\n",
    "        print(\"Programming\")\n",
    "    return\n",
    "defcase(\"PYThoN\")\n",
    "defcase(\"PyThOn\")"
   ]
  },
  {
   "cell_type": "code",
   "execution_count": 16,
   "metadata": {},
   "outputs": [
    {
     "name": "stdout",
     "output_type": "stream",
     "text": [
      "n\n",
      "pyt\n",
      "pyth\n",
      "yt\n",
      "hon\n",
      "nohtyp\n"
     ]
    }
   ],
   "source": [
    "s1=\"python\"\n",
    "print(s1[-1])\n",
    "print(s1[0:3])\n",
    "print(s1[:4])\n",
    "print(s1[1:3])\n",
    "print(s1[-3:])\n",
    "print(s1[::-1])"
   ]
  },
  {
   "cell_type": "code",
   "execution_count": 19,
   "metadata": {},
   "outputs": [
    {
     "name": "stdout",
     "output_type": "stream",
     "text": [
      "1 8 9 9 "
     ]
    }
   ],
   "source": [
    "def extractdig(x):\n",
    "    for i in range(len(x)):\n",
    "        if ord(x[i])>=48 and ord(x[i])<=57:\n",
    "            print(x[i],end=\" \")\n",
    "    return\n",
    "extractdig(\"Appli1cat899\")\n",
    "    "
   ]
  },
  {
   "cell_type": "code",
   "execution_count": 27,
   "metadata": {},
   "outputs": [
    {
     "name": "stdout",
     "output_type": "stream",
     "text": [
      "27\n"
     ]
    }
   ],
   "source": [
    "def extractdig(x):\n",
    "    sum=0\n",
    "    for i in range(len(x)):\n",
    "        if ord(x[i])>=48 and ord(x[i])<=57:\n",
    "            sum=sum+int(x[i])\n",
    "    print(sum)\n",
    "    return\n",
    "extractdig(\"Appli1cat899\")"
   ]
  },
  {
   "cell_type": "code",
   "execution_count": 32,
   "metadata": {},
   "outputs": [
    {
     "name": "stdout",
     "output_type": "stream",
     "text": [
      "12\n"
     ]
    }
   ],
   "source": [
    "# sum of even digits\n",
    "def extractdig(x):\n",
    "    sum=0\n",
    "    for i in range(len(x)):\n",
    "        if ord(x[i])>=48 and ord(x[i])<=57:\n",
    "            if int(x[i])%2==0:\n",
    "                sum=sum+int(x[i])\n",
    "    print(sum)\n",
    "    return\n",
    "extractdig(\"Appli1cat894\")"
   ]
  },
  {
   "cell_type": "code",
   "execution_count": null,
   "metadata": {},
   "outputs": [],
   "source": []
  }
 ],
 "metadata": {
  "kernelspec": {
   "display_name": "Python 3",
   "language": "python",
   "name": "python3"
  },
  "language_info": {
   "codemirror_mode": {
    "name": "ipython",
    "version": 3
   },
   "file_extension": ".py",
   "mimetype": "text/x-python",
   "name": "python",
   "nbconvert_exporter": "python",
   "pygments_lexer": "ipython3",
   "version": "3.7.3"
  }
 },
 "nbformat": 4,
 "nbformat_minor": 2
}
