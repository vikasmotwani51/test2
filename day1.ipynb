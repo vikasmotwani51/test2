{
 "cells": [
  {
   "cell_type": "markdown",
   "metadata": {},
   "source": [
    "# Markdown Basics\n",
    "## Markdown Basics\n",
    "### Markdown Basics\n",
    "#### Markdown Basics\n",
    "##### Markdown Basics\n",
    "\n",
    "* **Point1**(Bold)\n",
    "* *Point2*(Italic)\n",
    "* ***Point3***(Bold & italic)\n",
    "\n",
    "* Normal Text\n",
    " * Sublist 1\n",
    " * Sublist 2\n",
    " \n",
    ">1.Point 1\n",
    ">2.Point 2\n",
    "\n",
    "- []option 1\n",
    "- []option 2\n",
    "- []option 3\n",
    "\n",
    "* Google Site -- [1]: http://www.google.com\n",
    "* msn site -- [2]: http://www.msn.com\n",
    "\n",
    "* Google site -- [Google][1]\n",
    "[1]: http://www.google.com\n"
   ]
  },
  {
   "cell_type": "markdown",
   "metadata": {},
   "source": [
    "### Python Basics\n",
    " * Python version 3.7\n",
    " * Functional Programming\n",
    " * OPP\n",
    " * Scripting Program"
   ]
  },
  {
   "cell_type": "code",
   "execution_count": 2,
   "metadata": {},
   "outputs": [
    {
     "name": "stdout",
     "output_type": "stream",
     "text": [
      "Hello, Gitam\n"
     ]
    }
   ],
   "source": [
    "print(\"Hello, Gitam\")"
   ]
  },
  {
   "cell_type": "code",
   "execution_count": 3,
   "metadata": {},
   "outputs": [
    {
     "name": "stdout",
     "output_type": "stream",
     "text": [
      "Hello,Gitam\n",
      "Hyderabad\n"
     ]
    }
   ],
   "source": [
    "print(\"Hello,Gitam\")\n",
    "print(\"Hyderabad\")"
   ]
  },
  {
   "cell_type": "code",
   "execution_count": 6,
   "metadata": {},
   "outputs": [
    {
     "name": "stdout",
     "output_type": "stream",
     "text": [
      "Hello,Gitam sup Hyderabad\n"
     ]
    }
   ],
   "source": [
    "print(\"Hello,Gitam\",\"sup\",end=\" \")\n",
    "print(\"Hyd\",end=\"\")\n",
    "print(\"erabad\")"
   ]
  },
  {
   "cell_type": "code",
   "execution_count": null,
   "metadata": {},
   "outputs": [],
   "source": []
  },
  {
   "cell_type": "markdown",
   "metadata": {},
   "source": [
    "## Assignment"
   ]
  },
  {
   "cell_type": "code",
   "execution_count": 11,
   "metadata": {},
   "outputs": [
    {
     "name": "stdout",
     "output_type": "stream",
     "text": [
      "100 20 20 20 10 20 30\n"
     ]
    }
   ],
   "source": [
    "n1=100 #single variable ass\n",
    "a=b=c=20 #multi variable ass same value\n",
    "a1,b1,c1=10,20,30 #multi variable ass diff value\n",
    "print(n1,end=\" \")\n",
    "print(a,b,c,end=\" \")\n",
    "print(a1,b1,c1)"
   ]
  },
  {
   "cell_type": "code",
   "execution_count": null,
   "metadata": {},
   "outputs": [],
   "source": []
  },
  {
   "cell_type": "markdown",
   "metadata": {},
   "source": [
    "### Data types and Conversions\n",
    "\n",
    "* int\n",
    "* float\n",
    "* string"
   ]
  },
  {
   "cell_type": "code",
   "execution_count": 13,
   "metadata": {},
   "outputs": [
    {
     "name": "stdout",
     "output_type": "stream",
     "text": [
      "37\n",
      "<class 'int'>\n"
     ]
    }
   ],
   "source": [
    "a=37\n",
    "print(a)\n",
    "print(type(a))"
   ]
  },
  {
   "cell_type": "code",
   "execution_count": 15,
   "metadata": {},
   "outputs": [
    {
     "name": "stdout",
     "output_type": "stream",
     "text": [
      "<class 'str'>\n"
     ]
    }
   ],
   "source": [
    "a=\"Python\"\n",
    "print(type(a))"
   ]
  },
  {
   "cell_type": "code",
   "execution_count": 1,
   "metadata": {},
   "outputs": [
    {
     "name": "stdout",
     "output_type": "stream",
     "text": [
      "<class 'float'>\n",
      "<class 'int'>\n"
     ]
    }
   ],
   "source": [
    "a=3.14\n",
    "print(type(a))\n",
    "b=int(a)\n",
    "print(type(b))"
   ]
  },
  {
   "cell_type": "markdown",
   "metadata": {},
   "source": [
    "### Reading a value -- Input Funcyion\n",
    "\n",
    "* input(\"Message\") -- string"
   ]
  },
  {
   "cell_type": "code",
   "execution_count": 2,
   "metadata": {},
   "outputs": [
    {
     "name": "stdout",
     "output_type": "stream",
     "text": [
      "Enter your nameVikas Motwani\n",
      "Vikas Motwani\n",
      "<class 'str'>\n"
     ]
    }
   ],
   "source": [
    "s1=input(\"Enter your name\")\n",
    "print(s1)\n",
    "print(type(s1))"
   ]
  },
  {
   "cell_type": "code",
   "execution_count": 3,
   "metadata": {},
   "outputs": [
    {
     "name": "stdout",
     "output_type": "stream",
     "text": [
      "Enter a number37\n",
      "37 <class 'int'>\n"
     ]
    }
   ],
   "source": [
    "# want a number as input\n",
    "n1=int(input(\"Enter a number\"))\n",
    "print(n1,type(n1))"
   ]
  },
  {
   "cell_type": "markdown",
   "metadata": {},
   "source": [
    "## Operators\n",
    "\n",
    "* Operator is a symbol used to perfprm specific kind of operation\n",
    "\n",
    "### Arithmetic Operators\n",
    "- +\n",
    "- -\n",
    "- *\n",
    "- /\n",
    "- %\n",
    "- **\n",
    "- //"
   ]
  },
  {
   "cell_type": "code",
   "execution_count": 5,
   "metadata": {},
   "outputs": [
    {
     "name": "stdout",
     "output_type": "stream",
     "text": [
      "2017\n",
      "1997\n",
      "20070\n",
      "200.7\n",
      "7\n",
      "200\n",
      "1060409780885367740279751534615249\n"
     ]
    }
   ],
   "source": [
    "n1=2007\n",
    "print(n1+10)\n",
    "print(n1-10)\n",
    "print(n1*10)\n",
    "print(n1/10) #returns coff in float\n",
    "print(n1%10) # returns remainder\n",
    "print(n1//10) # returns coff in int\n",
    "print(n1**10) #returns power of number"
   ]
  },
  {
   "cell_type": "markdown",
   "metadata": {},
   "source": [
    "### Precedence of the Arth operators\n",
    "\n",
    "- Paranthesis\n",
    "- Power\n",
    "- Multiplication\n",
    "- Addition\n",
    "\n",
    "#### Left to Right "
   ]
  },
  {
   "cell_type": "code",
   "execution_count": 10,
   "metadata": {},
   "outputs": [
    {
     "name": "stdout",
     "output_type": "stream",
     "text": [
      "8\n"
     ]
    }
   ],
   "source": [
    "x= 1+2**3/4+5\n",
    "print(int(x))"
   ]
  },
  {
   "cell_type": "markdown",
   "metadata": {},
   "source": [
    "### Relational Operators\n",
    "\n",
    "- ==\n",
    "- !=\n",
    "- Greater(>)\n",
    "- Lesser(<)\n",
    "- Lesser or equal(<=)\n",
    "- Greater or equal(>=)\n",
    "\n",
    "##### True OR False\n",
    "\n",
    "\n",
    "### Logical operators (to combine more than one condition)\n",
    "\n",
    "* and (both true)\n",
    "* or (atleast one)\n",
    "* not (only one)"
   ]
  },
  {
   "cell_type": "code",
   "execution_count": 1,
   "metadata": {},
   "outputs": [
    {
     "name": "stdout",
     "output_type": "stream",
     "text": [
      "False\n"
     ]
    }
   ],
   "source": [
    "i=10\n",
    "a=(i>15)\n",
    "print(a)"
   ]
  },
  {
   "cell_type": "markdown",
   "metadata": {},
   "source": [
    "### Control Flow Statements\n",
    "- Conditional\n",
    "- Looping\n",
    "\n",
    "#### if-else statements\n",
    "\n",
    "* **Syntax**\n",
    "\n",
    "* if Boolean condition:\n",
    "* Statements\n",
    "* else:\n",
    "* Statements"
   ]
  },
  {
   "cell_type": "code",
   "execution_count": 2,
   "metadata": {},
   "outputs": [
    {
     "name": "stdout",
     "output_type": "stream",
     "text": [
      "Enter a no5\n",
      "odd\n"
     ]
    }
   ],
   "source": [
    "#To check even or odd\n",
    "n= int(input(\"Enter a no\"))\n",
    "if n%2==0:\n",
    "    print(\"Even\")\n",
    "else:\n",
    "    print(\"odd\")"
   ]
  },
  {
   "cell_type": "code",
   "execution_count": null,
   "metadata": {},
   "outputs": [],
   "source": []
  }
 ],
 "metadata": {
  "kernelspec": {
   "display_name": "Python 3",
   "language": "python",
   "name": "python3"
  },
  "language_info": {
   "codemirror_mode": {
    "name": "ipython",
    "version": 3
   },
   "file_extension": ".py",
   "mimetype": "text/x-python",
   "name": "python",
   "nbconvert_exporter": "python",
   "pygments_lexer": "ipython3",
   "version": "3.7.3"
  }
 },
 "nbformat": 4,
 "nbformat_minor": 2
}
