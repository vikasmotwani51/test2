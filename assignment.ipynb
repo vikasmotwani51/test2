{
 "cells": [
  {
   "cell_type": "code",
   "execution_count": 2,
   "metadata": {},
   "outputs": [
    {
     "name": "stdout",
     "output_type": "stream",
     "text": [
      "Enter number5\n",
      "[3, 2, 1, 1, 0]\n"
     ]
    }
   ],
   "source": [
    "# 1. Fib reverse\n",
    "def fibrev(n):\n",
    "    li=[0,1]\n",
    "    i=1\n",
    "    j=0\n",
    "    while i<n-2:\n",
    "        i,j=i+j,i\n",
    "        li.append(i)\n",
    "    li.reverse()\n",
    "    \n",
    "    print(li)\n",
    "    return\n",
    "fibrev(int(input(\"Enter number\")))\n"
   ]
  },
  {
   "cell_type": "code",
   "execution_count": 3,
   "metadata": {},
   "outputs": [
    {
     "name": "stdout",
     "output_type": "stream",
     "text": [
      "Enter the number1\n",
      "Enter the number2\n",
      "Enter the number3\n",
      "Enter the number4\n",
      "Enter the number4\n",
      "[1, 2, 3, 4, 4]\n"
     ]
    },
    {
     "data": {
      "text/plain": [
       "6"
      ]
     },
     "execution_count": 3,
     "metadata": {},
     "output_type": "execute_result"
    }
   ],
   "source": [
    "#2. sum non repeated\n",
    "def sumnonrep(n):\n",
    "    li=[]\n",
    "    i=0\n",
    "    sum=0\n",
    "    while i<n:\n",
    "        a=int(input(\"Enter the number\"))\n",
    "        li.append(a)\n",
    "        i+=1\n",
    "    print(li)\n",
    "    for i in range(len(li)):\n",
    "        a=li.count(li[i])\n",
    "        if a==1:\n",
    "            sum=sum+li[i]\n",
    "    if sum == 0:\n",
    "        return -1\n",
    "    return sum\n",
    "sumnonrep(5)\n",
    "            \n",
    "    "
   ]
  },
  {
   "cell_type": "code",
   "execution_count": 5,
   "metadata": {},
   "outputs": [
    {
     "name": "stdout",
     "output_type": "stream",
     "text": [
      "1 3 9 27 81 243 "
     ]
    }
   ],
   "source": [
    "#3. cubes\n",
    "def cube(n):\n",
    "    i=0\n",
    "    while i<=n:\n",
    "        j=3**i\n",
    "        print(j,end=\" \")\n",
    "        i+=1\n",
    "    return\n",
    "cube(5)\n"
   ]
  },
  {
   "cell_type": "code",
   "execution_count": 6,
   "metadata": {},
   "outputs": [
    {
     "name": "stdout",
     "output_type": "stream",
     "text": [
      "1 2 4 8 16 32 "
     ]
    }
   ],
   "source": [
    "#4. 2 power series\n",
    "def power2(n):\n",
    "    i=0\n",
    "    while i<=n:\n",
    "        j=2**i\n",
    "        print(j,end=\" \")\n",
    "        i+=1\n",
    "    return\n",
    "power2(5)"
   ]
  },
  {
   "cell_type": "code",
   "execution_count": 7,
   "metadata": {},
   "outputs": [
    {
     "name": "stdout",
     "output_type": "stream",
     "text": [
      "HbonTch"
     ]
    }
   ],
   "source": [
    "#5. remove char\n",
    "def remchar(s,c):\n",
    "    for i in range(len(s)):\n",
    "        if (ord(s[i])>=97 and ord(s[i])<=122) or (ord(s[i])>=65 and ord(s[i])<=90) or ord(s[i])==32:\n",
    "            if s[i]!=c:\n",
    "                print(s[i],end=\"\")\n",
    "    return\n",
    "s=\"HebeonTech\"\n",
    "c=\"e\"\n",
    "remchar(s,c)"
   ]
  },
  {
   "cell_type": "code",
   "execution_count": 8,
   "metadata": {},
   "outputs": [
    {
     "name": "stdout",
     "output_type": "stream",
     "text": [
      "2 15 41 80 132 197 275 366 470 587 "
     ]
    }
   ],
   "source": [
    "#6. series\n",
    "def series(n):\n",
    "   i=2\n",
    "   j=0\n",
    "   while i<=n:\n",
    "       i = i+13*j\n",
    "       print(i,end=\" \")\n",
    "       j+=1\n",
    "   return\n",
    "series(500)"
   ]
  },
  {
   "cell_type": "code",
   "execution_count": 9,
   "metadata": {},
   "outputs": [
    {
     "name": "stdout",
     "output_type": "stream",
     "text": [
      "awbxcydz"
     ]
    },
    {
     "ename": "IndexError",
     "evalue": "string index out of range",
     "output_type": "error",
     "traceback": [
      "\u001b[1;31m---------------------------------------------------------------------------\u001b[0m",
      "\u001b[1;31mIndexError\u001b[0m                                Traceback (most recent call last)",
      "\u001b[1;32m<ipython-input-9-3361025602aa>\u001b[0m in \u001b[0;36m<module>\u001b[1;34m\u001b[0m\n\u001b[0;32m      9\u001b[0m \u001b[0ms1\u001b[0m\u001b[1;33m=\u001b[0m\u001b[1;34m\"abcd\"\u001b[0m\u001b[1;33m\u001b[0m\u001b[1;33m\u001b[0m\u001b[0m\n\u001b[0;32m     10\u001b[0m \u001b[0ms2\u001b[0m\u001b[1;33m=\u001b[0m\u001b[1;34m\"wxyz\"\u001b[0m\u001b[1;33m\u001b[0m\u001b[1;33m\u001b[0m\u001b[0m\n\u001b[1;32m---> 11\u001b[1;33m \u001b[0mmergstr\u001b[0m\u001b[1;33m(\u001b[0m\u001b[0ms1\u001b[0m\u001b[1;33m,\u001b[0m\u001b[0ms2\u001b[0m\u001b[1;33m)\u001b[0m\u001b[1;33m\u001b[0m\u001b[1;33m\u001b[0m\u001b[0m\n\u001b[0m",
      "\u001b[1;32m<ipython-input-9-3361025602aa>\u001b[0m in \u001b[0;36mmergstr\u001b[1;34m(s1, s2)\u001b[0m\n\u001b[0;32m      4\u001b[0m     \u001b[0mj\u001b[0m\u001b[1;33m=\u001b[0m\u001b[1;36m0\u001b[0m\u001b[1;33m\u001b[0m\u001b[1;33m\u001b[0m\u001b[0m\n\u001b[0;32m      5\u001b[0m     \u001b[1;32mfor\u001b[0m \u001b[0mi\u001b[0m \u001b[1;32min\u001b[0m \u001b[0mrange\u001b[0m\u001b[1;33m(\u001b[0m\u001b[0mlen\u001b[0m\u001b[1;33m(\u001b[0m\u001b[0ms1\u001b[0m\u001b[1;33m)\u001b[0m\u001b[1;33m+\u001b[0m\u001b[0mlen\u001b[0m\u001b[1;33m(\u001b[0m\u001b[0ms2\u001b[0m\u001b[1;33m)\u001b[0m\u001b[1;33m)\u001b[0m\u001b[1;33m:\u001b[0m\u001b[1;33m\u001b[0m\u001b[1;33m\u001b[0m\u001b[0m\n\u001b[1;32m----> 6\u001b[1;33m         \u001b[0mprint\u001b[0m\u001b[1;33m(\u001b[0m\u001b[0ms1\u001b[0m\u001b[1;33m[\u001b[0m\u001b[0mi\u001b[0m\u001b[1;33m]\u001b[0m\u001b[1;33m,\u001b[0m\u001b[0mend\u001b[0m\u001b[1;33m=\u001b[0m\u001b[1;34m\"\"\u001b[0m\u001b[1;33m)\u001b[0m\u001b[1;33m\u001b[0m\u001b[1;33m\u001b[0m\u001b[0m\n\u001b[0m\u001b[0;32m      7\u001b[0m         \u001b[0mprint\u001b[0m\u001b[1;33m(\u001b[0m\u001b[0ms2\u001b[0m\u001b[1;33m[\u001b[0m\u001b[0mi\u001b[0m\u001b[1;33m]\u001b[0m\u001b[1;33m,\u001b[0m\u001b[0mend\u001b[0m\u001b[1;33m=\u001b[0m\u001b[1;34m\"\"\u001b[0m\u001b[1;33m)\u001b[0m\u001b[1;33m\u001b[0m\u001b[1;33m\u001b[0m\u001b[0m\n\u001b[0;32m      8\u001b[0m     \u001b[1;32mreturn\u001b[0m\u001b[1;33m\u001b[0m\u001b[1;33m\u001b[0m\u001b[0m\n",
      "\u001b[1;31mIndexError\u001b[0m: string index out of range"
     ]
    }
   ],
   "source": [
    "#7. Merge strings\n",
    "def mergstr(s1,s2):\n",
    "    i=0\n",
    "    j=0\n",
    "    for i in range(len(s1)+len(s2)):\n",
    "        print(s1[i],end=\"\")\n",
    "        print(s2[i],end=\"\")\n",
    "    return\n",
    "s1=\"abcd\"\n",
    "s2=\"wxyz\"\n",
    "mergstr(s1,s2)"
   ]
  },
  {
   "cell_type": "code",
   "execution_count": 10,
   "metadata": {},
   "outputs": [
    {
     "name": "stdout",
     "output_type": "stream",
     "text": [
      "1 +2 +6 +24 +120 +"
     ]
    }
   ],
   "source": [
    "#8 fact sum\n",
    "def factsum(n):\n",
    "    f=1\n",
    "    i=1\n",
    "    while i<=n:\n",
    "        f=f*i\n",
    "        print(f,\"+\",end=\"\")\n",
    "        i+=1\n",
    "    return\n",
    "factsum(5)"
   ]
  },
  {
   "cell_type": "code",
   "execution_count": 11,
   "metadata": {},
   "outputs": [
    {
     "name": "stdout",
     "output_type": "stream",
     "text": [
      "1 !+2 !+3 !+4 !+5 !+"
     ]
    }
   ],
   "source": [
    "#fact sum\n",
    "def factsum(n):\n",
    "    i=1\n",
    "    while i<=n:\n",
    "        print(i,\"!+\",end=\"\")\n",
    "        i+=1\n",
    "    return\n",
    "factsum(5)"
   ]
  },
  {
   "cell_type": "code",
   "execution_count": null,
   "metadata": {},
   "outputs": [],
   "source": []
  }
 ],
 "metadata": {
  "kernelspec": {
   "display_name": "Python 3",
   "language": "python",
   "name": "python3"
  },
  "language_info": {
   "codemirror_mode": {
    "name": "ipython",
    "version": 3
   },
   "file_extension": ".py",
   "mimetype": "text/x-python",
   "name": "python",
   "nbconvert_exporter": "python",
   "pygments_lexer": "ipython3",
   "version": "3.7.3"
  }
 },
 "nbformat": 4,
 "nbformat_minor": 2
}
