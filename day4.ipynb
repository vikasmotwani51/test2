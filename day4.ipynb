{
 "cells": [
  {
   "cell_type": "code",
   "execution_count": 2,
   "metadata": {},
   "outputs": [
    {
     "name": "stdout",
     "output_type": "stream",
     "text": [
      "Welcome Vikas\n"
     ]
    }
   ],
   "source": [
    "print(\"Welcome Vikas\")"
   ]
  },
  {
   "cell_type": "code",
   "execution_count": 4,
   "metadata": {},
   "outputs": [
    {
     "name": "stdout",
     "output_type": "stream",
     "text": [
      "How are you?\n"
     ]
    }
   ],
   "source": [
    "s=str(input(\"How are you?\"))\n",
    "if s == \"im fine\":\n",
    "    print(\"Okay, Have a great day ahead\")\n",
    "elif s== \"I dont feel so good\":\n",
    "    print(\"Oh ohh! I can tell a joke\")\n",
    "    print(\"\")\n",
    "    \n"
   ]
  },
  {
   "cell_type": "markdown",
   "metadata": {},
   "source": [
    "### Day Objectives\n",
    "\n",
    "* Python Data structures\n",
    "  * Lists\n",
    "  * Tuples\n",
    "  * Dictionaries\n",
    "* Basic Program sets on DS\n",
    "* Advanced Problem set\n",
    "* Contact \n",
    "\n",
    "####  Data Structures:\n",
    "\n",
    "* To store search and sort the data"
   ]
  },
  {
   "cell_type": "markdown",
   "metadata": {},
   "source": [
    "### Python Data structures\n",
    "#### Lists\n",
    "\n",
    "* Its one of the common data structures supported by python, the list items are separted by coma operator and  enclosed in square brackets\n",
    "\n",
    " * example: list1=[1,2,3,4]"
   ]
  },
  {
   "cell_type": "code",
   "execution_count": 11,
   "metadata": {},
   "outputs": [
    {
     "name": "stdout",
     "output_type": "stream",
     "text": [
      "[1, 2, 4, 8, 16]\n",
      "1\n",
      "[4, 8]\n",
      "[2, 4, 8, 16]\n",
      "4\n"
     ]
    }
   ],
   "source": [
    "lst=[1,2,4,8,16]\n",
    "print(lst)\n",
    "print(lst[0])\n",
    "print(lst[2:4])\n",
    "print(lst[1:])\n",
    "print(lst[-3])"
   ]
  },
  {
   "cell_type": "code",
   "execution_count": 13,
   "metadata": {},
   "outputs": [
    {
     "name": "stdout",
     "output_type": "stream",
     "text": [
      "5\n",
      "[1, 9, 6, 18, 2, 1, 9, 6, 18, 2]\n",
      "True\n",
      "False\n"
     ]
    }
   ],
   "source": [
    "# Basic List Operations\n",
    "lst1=[1,9,6,18,2]\n",
    "print(len(lst1))\n",
    "print(lst1 * 2)\n",
    "print(9 in lst1)\n",
    "print(15 in lst1)"
   ]
  },
  {
   "cell_type": "code",
   "execution_count": 27,
   "metadata": {},
   "outputs": [
    {
     "name": "stdout",
     "output_type": "stream",
     "text": [
      "1\n",
      "18\n",
      "36\n",
      "7\n",
      "3.0\n",
      "[1, 2]\n"
     ]
    }
   ],
   "source": [
    "# Functions of the list\n",
    "lst1= [1,9,6,18,2]\n",
    "print(min(lst1))\n",
    "print(max(lst1))\n",
    "print(sum(lst1))\n",
    "print(sum(lst1)//len(lst1))\n",
    "print(sum(lst1[0::2])/len(lst1[0::2]))\n",
    "print(lst1[0::4])"
   ]
  },
  {
   "cell_type": "code",
   "execution_count": 8,
   "metadata": {},
   "outputs": [
    {
     "name": "stdout",
     "output_type": "stream",
     "text": [
      "[1, 2, 3, 6, 9, 18]\n",
      "[1, 2, 3, 6, 9, 18, 24]\n",
      "[1, 2, 56, 3, 6, 9, 18, 24]\n",
      "1\n",
      "2\n",
      "[1, 2, 3, 6, 9, 18, 24, 56]\n",
      "56\n",
      "2\n",
      "[1, 3, 6, 9, 18, 24, 1, 5, 2, 9]\n",
      "[1, 5, 2, 9]\n",
      "[9, 2, 5, 1, 24, 18, 9, 6, 3, 1]\n",
      "[9, 2, 5, 1, 24, 9, 6, 3, 1]\n"
     ]
    }
   ],
   "source": [
    "lst1=[1,2,3,6,9,18]\n",
    "print(lst1)\n",
    "lst1.append(24) # insert at end\n",
    "print(lst1)\n",
    "lst1.insert(2,56) # insert at spec pos\n",
    "print(lst1)\n",
    "print(lst1.count(18)) # count how many times no appeared\n",
    "print(lst1.index(56))# gives element index\n",
    "lst1.sort() # sorts\n",
    "print(lst1)\n",
    "print(lst1.pop())\n",
    "print(lst1.pop(1))\n",
    "lst2=[1,5,2,9]\n",
    "lst1.extend(lst2)\n",
    "print(lst1)\n",
    "print(lst2)\n",
    "lst1.reverse()\n",
    "print(lst1)\n",
    "lst1.remove(18)\n",
    "print(lst1)\n"
   ]
  },
  {
   "cell_type": "code",
   "execution_count": 11,
   "metadata": {},
   "outputs": [
    {
     "name": "stdout",
     "output_type": "stream",
     "text": [
      "[1, 2, 7, 9, 16, 25]\n"
     ]
    },
    {
     "data": {
      "text/plain": [
       "16"
      ]
     },
     "execution_count": 11,
     "metadata": {},
     "output_type": "execute_result"
    }
   ],
   "source": [
    "def seclarge(li):\n",
    "    li.sort()\n",
    "    print(li)\n",
    "    return li[-2]\n",
    "li=[1,9,16,2,25,7]\n",
    "seclarge(li)"
   ]
  },
  {
   "cell_type": "code",
   "execution_count": 14,
   "metadata": {},
   "outputs": [
    {
     "name": "stdout",
     "output_type": "stream",
     "text": [
      "[1, 2, 7, 9, 16, 25]\n",
      "[1, 2, 7, 9, 16, 25]\n"
     ]
    },
    {
     "data": {
      "text/plain": [
       "9"
      ]
     },
     "execution_count": 14,
     "metadata": {},
     "output_type": "execute_result"
    }
   ],
   "source": [
    "def genericlarge(li,n):\n",
    "    li.sort()\n",
    "    print(li)\n",
    "    return li[-n]\n",
    "genericlarge(li,4)\n",
    "genericlarge(li,3)"
   ]
  },
  {
   "cell_type": "code",
   "execution_count": 16,
   "metadata": {},
   "outputs": [
    {
     "name": "stdout",
     "output_type": "stream",
     "text": [
      "[1, 2, 7, 9, 16, 25]\n"
     ]
    },
    {
     "data": {
      "text/plain": [
       "2"
      ]
     },
     "execution_count": 16,
     "metadata": {},
     "output_type": "execute_result"
    }
   ],
   "source": [
    "def genleast(li,n):\n",
    "    li.sort()\n",
    "    print(li)\n",
    "    return li[n-1]\n",
    "genleast(li,2)"
   ]
  },
  {
   "cell_type": "code",
   "execution_count": 9,
   "metadata": {},
   "outputs": [
    {
     "name": "stdout",
     "output_type": "stream",
     "text": [
      "7 9 19 22 "
     ]
    }
   ],
   "source": [
    "# Function\n",
    "# Input: List\n",
    "# Output: Formatted output\n",
    "# Test cases:\n",
    "# [1,6,9,4,16,19,22] -- 1 9 19 22\n",
    "# Print 1st and last no and no which has even on both sides\n",
    "def formout(li):\n",
    "    for i in range(len(li)):\n",
    "        if i==0 or i==len(li)-1:\n",
    "            print(li[i],end=\" \")\n",
    "        if li[i-1]%2==0 and li[i+1]%2==0 and i!=0:\n",
    "            print(li[i],end=\" \")\n",
    "    return\n",
    "li=[7,6,9,4,16,19,22]\n",
    "formout(li)"
   ]
  },
  {
   "cell_type": "markdown",
   "metadata": {},
   "source": [
    "### Number to list\n",
    "\n",
    "* Input as number\n",
    "* Expected output will be list\n"
   ]
  },
  {
   "cell_type": "code",
   "execution_count": 19,
   "metadata": {},
   "outputs": [
    {
     "data": {
      "text/plain": [
       "[1, 9, 9, 0]"
      ]
     },
     "execution_count": 19,
     "metadata": {},
     "output_type": "execute_result"
    }
   ],
   "source": [
    "# Function for conversion - number to list\n",
    "# Test cases - 14569--[1,4,5,6,9]\n",
    "# 1990 -- [1,9,9,0]\n",
    "\n",
    "def convert(n):\n",
    "    li=[]\n",
    "    while n!=0:\n",
    "        a=n%10\n",
    "        n=n//10\n",
    "        li.append(a)\n",
    "    li.reverse()\n",
    "    return li\n",
    "convert(14569)\n",
    "convert(1990)\n",
    "    "
   ]
  },
  {
   "cell_type": "markdown",
   "metadata": {},
   "source": [
    "## Sorting Algorithms:\n",
    "\n",
    "* Making list into ascending order\n",
    " * Bubble sort\n",
    " * Selection sort\n",
    " * Insertion sort\n",
    " "
   ]
  },
  {
   "cell_type": "markdown",
   "metadata": {},
   "source": [
    "### Bubble Sort:\n",
    "\n",
    "* This algorithm compares the adj elements, if the first element is greater\n",
    "* it swaps with the next element\n"
   ]
  },
  {
   "cell_type": "code",
   "execution_count": 21,
   "metadata": {},
   "outputs": [
    {
     "data": {
      "text/plain": [
       "[1, 3, 6, 18, 19, 25]"
      ]
     },
     "execution_count": 21,
     "metadata": {},
     "output_type": "execute_result"
    }
   ],
   "source": [
    "# Bubble sort\n",
    "def bubblesort(li):\n",
    "    for i in range(len(li)-1):\n",
    "        for j in range (len(li)-1):\n",
    "            if li[j]>li[j+1]:\n",
    "                li[j],li[j+1]=li[j+1],li[j]\n",
    "    return li\n",
    "li = [19,1,25,6,18,3]\n",
    "bubblesort(li)"
   ]
  },
  {
   "cell_type": "code",
   "execution_count": null,
   "metadata": {},
   "outputs": [],
   "source": [
    "\n"
   ]
  }
 ],
 "metadata": {
  "kernelspec": {
   "display_name": "Python 3",
   "language": "python",
   "name": "python3"
  },
  "language_info": {
   "codemirror_mode": {
    "name": "ipython",
    "version": 3
   },
   "file_extension": ".py",
   "mimetype": "text/x-python",
   "name": "python",
   "nbconvert_exporter": "python",
   "pygments_lexer": "ipython3",
   "version": "3.7.3"
  }
 },
 "nbformat": 4,
 "nbformat_minor": 2
}
