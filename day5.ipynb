{
 "cells": [
  {
   "cell_type": "markdown",
   "metadata": {},
   "source": [
    "### Dictionary\n",
    "\n",
    "* It works on the concept of Set Unique Data\n",
    " *       Keys,Values is the unique identifier for a value\n",
    " *        Each key is separted from its values with colon(:)\n",
    " *        Each key and value is separted by comma(,)\n",
    " *        Dictionaries enclosed with Curly braces({})\n"
   ]
  },
  {
   "cell_type": "code",
   "execution_count": 9,
   "metadata": {},
   "outputs": [
    {
     "name": "stdout",
     "output_type": "stream",
     "text": [
      "{'Name': 'Gitam', 'EmailId': 'gitam@gmail.com', 'Address': 'Hyderabad'}\n"
     ]
    }
   ],
   "source": [
    " d1 = {\"Name\":\"Gitam\",\"EmailId\":\"gitam@gmail.com\",\"Address\":\"Hyderabad\"}\n",
    " print(d1)\n",
    "\n",
    "        "
   ]
  },
  {
   "cell_type": "markdown",
   "metadata": {},
   "source": [
    "### Tuples\n",
    "\n",
    "* t1 paranthesis() li square brackets[]\n",
    "* Diff between list n tuples\n",
    "* list are mutable - can be changed / modified\n",
    "   * Used to access modify, Add. Delete data\n",
    "* Tuples are immutable - cannot be changed\n",
    "   * Used to access data only"
   ]
  },
  {
   "cell_type": "code",
   "execution_count": 11,
   "metadata": {},
   "outputs": [
    {
     "name": "stdout",
     "output_type": "stream",
     "text": [
      "{1, 2, 3, 4, 5, 6}\n"
     ]
    }
   ],
   "source": [
    "t1={1,2,3,4,5,6}\n",
    "print(t1)"
   ]
  },
  {
   "cell_type": "markdown",
   "metadata": {},
   "source": [
    "### Contact Application\n",
    "\n",
    "* Add Contact\n",
    "* Search the contact\n",
    "* List all contacts\n",
    "  * name1 : phone1\n",
    "  * name2 : phone2\n",
    "* Modify the contact\n",
    "* Remove the contact\n",
    "* Import the contact"
   ]
  },
  {
   "cell_type": "code",
   "execution_count": 17,
   "metadata": {},
   "outputs": [
    {
     "name": "stdout",
     "output_type": "stream",
     "text": [
      "Contact details are added\n",
      "Contact details already exist\n",
      "{'Anil': '9876543210'}\n"
     ]
    }
   ],
   "source": [
    "# Add contact\n",
    "contacts = {} #create a dict obj\n",
    "def addcontact(name,phone):\n",
    "    if name not in  contacts:\n",
    "        contacts[name]=phone\n",
    "        print(\"Contact details are added\")\n",
    "    else:\n",
    "        print(\"Contact details already exist\")\n",
    "    return\n",
    "addcontact('Anil','9876543210')\n",
    "addcontact('Anil','9876543210')\n",
    "print(contacts)"
   ]
  },
  {
   "cell_type": "code",
   "execution_count": 23,
   "metadata": {},
   "outputs": [
    {
     "name": "stdout",
     "output_type": "stream",
     "text": [
      "1 Contact added successfully\n"
     ]
    }
   ],
   "source": [
    "def importcontact(newcont):\n",
    "    contacts.update(newcont)\n",
    "    print(len(newcont.keys()),\"Contact added successfully\")\n",
    "    return\n",
    "newcont={\"Dinesh\":9932028455}\n",
    "importcontact(newcont)"
   ]
  },
  {
   "cell_type": "code",
   "execution_count": 26,
   "metadata": {},
   "outputs": [
    {
     "name": "stdout",
     "output_type": "stream",
     "text": [
      "Dinesh Not exists\n"
     ]
    }
   ],
   "source": [
    "# delete contact\n",
    "def delcontact(name):\n",
    "    if name in contacts:\n",
    "        del contacts[name]\n",
    "        print(name,\"deleted successfully\")\n",
    "    else:\n",
    "        print(name,\"Not exists\")\n",
    "    return\n",
    "delcontact(\"Dinesh\")"
   ]
  },
  {
   "cell_type": "code",
   "execution_count": 3,
   "metadata": {},
   "outputs": [
    {
     "name": "stdout",
     "output_type": "stream",
     "text": [
      "Enter number5\n",
      "[3, 2, 1, 1, 0]\n"
     ]
    }
   ],
   "source": [
    "# 1. Fib reverse\n",
    "def fibrev(n):\n",
    "    li=[0,1]\n",
    "    i=1\n",
    "    j=0\n",
    "    while i<n-2:\n",
    "        i,j=i+j,i\n",
    "        li.append(i)\n",
    "    li.reverse()\n",
    "    \n",
    "    print(li)\n",
    "    return\n",
    "fibrev(int(input(\"Enter number\")))\n"
   ]
  },
  {
   "cell_type": "code",
   "execution_count": 17,
   "metadata": {},
   "outputs": [
    {
     "name": "stdout",
     "output_type": "stream",
     "text": [
      "Enter the number1\n",
      "Enter the number2\n",
      "Enter the number3\n",
      "Enter the number4\n",
      "Enter the number4\n",
      "[1, 2, 3, 4, 4]\n"
     ]
    },
    {
     "data": {
      "text/plain": [
       "6"
      ]
     },
     "execution_count": 17,
     "metadata": {},
     "output_type": "execute_result"
    }
   ],
   "source": [
    "#2. sum non repeated\n",
    "def sumnonrep(n):\n",
    "    li=[]\n",
    "    i=0\n",
    "    sum=0\n",
    "    while i<n:\n",
    "        a=int(input(\"Enter the number\"))\n",
    "        li.append(a)\n",
    "        i+=1\n",
    "    print(li)\n",
    "    for i in range(len(li)):\n",
    "        a=li.count(li[i])\n",
    "        if a==1:\n",
    "            sum=sum+li[i]\n",
    "    if sum == 0:\n",
    "        return -1\n",
    "    return sum\n",
    "sumnonrep(5)\n",
    "            \n",
    "    \n",
    "\n",
    "    "
   ]
  },
  {
   "cell_type": "code",
   "execution_count": 7,
   "metadata": {},
   "outputs": [
    {
     "name": "stdout",
     "output_type": "stream",
     "text": [
      "1 3 9 27 81 243 "
     ]
    }
   ],
   "source": [
    "#3. cubes\n",
    "def cube(n):\n",
    "    i=0\n",
    "    while i<=n:\n",
    "        j=3**i\n",
    "        print(j,end=\" \")\n",
    "        i+=1\n",
    "    return\n",
    "cube(5)"
   ]
  },
  {
   "cell_type": "code",
   "execution_count": 5,
   "metadata": {},
   "outputs": [
    {
     "name": "stdout",
     "output_type": "stream",
     "text": [
      "1 2 4 8 16 32 "
     ]
    }
   ],
   "source": [
    "#4. 2 power series\n",
    "def power2(n):\n",
    "    i=0\n",
    "    while i<=n:\n",
    "        j=2**i\n",
    "        print(j,end=\" \")\n",
    "        i+=1\n",
    "    return\n",
    "power2(5)"
   ]
  },
  {
   "cell_type": "code",
   "execution_count": 11,
   "metadata": {},
   "outputs": [
    {
     "name": "stdout",
     "output_type": "stream",
     "text": [
      "HbonTch"
     ]
    }
   ],
   "source": [
    "#5. remove char\n",
    "def remchar(s,c):\n",
    "    for i in range(len(s)):\n",
    "        if (ord(s[i])>=97 and ord(s[i])<=122) or (ord(s[i])>=65 and ord(s[i])<=90) or ord(s[i])==32:\n",
    "            if s[i]!=c:\n",
    "                print(s[i],end=\"\")\n",
    "    return\n",
    "s=\"HebeonTech\"\n",
    "c=\"e\"\n",
    "remchar(s,c)"
   ]
  },
  {
   "cell_type": "code",
   "execution_count": 12,
   "metadata": {},
   "outputs": [
    {
     "name": "stdout",
     "output_type": "stream",
     "text": [
      "2 15 41 80 132 197 275 366 470 587 "
     ]
    }
   ],
   "source": [
    "#6. series\n",
    "def series(n):\n",
    "   i=2\n",
    "   j=0\n",
    "   while i<=n:\n",
    "       i = i+13*j\n",
    "       print(i,end=\" \")\n",
    "       j+=1\n",
    "   return\n",
    "series(500)"
   ]
  },
  {
   "cell_type": "code",
   "execution_count": 3,
   "metadata": {},
   "outputs": [
    {
     "ename": "TypeError",
     "evalue": "'str' object does not support item assignment",
     "output_type": "error",
     "traceback": [
      "\u001b[1;31m---------------------------------------------------------------------------\u001b[0m",
      "\u001b[1;31mTypeError\u001b[0m                                 Traceback (most recent call last)",
      "\u001b[1;32m<ipython-input-3-e5fb44b754b2>\u001b[0m in \u001b[0;36m<module>\u001b[1;34m\u001b[0m\n\u001b[0;32m     14\u001b[0m \u001b[0ms1\u001b[0m\u001b[1;33m=\u001b[0m\u001b[1;34m\"abc\"\u001b[0m\u001b[1;33m\u001b[0m\u001b[1;33m\u001b[0m\u001b[0m\n\u001b[0;32m     15\u001b[0m \u001b[0ms2\u001b[0m\u001b[1;33m=\u001b[0m\u001b[1;34m\"xyz\"\u001b[0m\u001b[1;33m\u001b[0m\u001b[1;33m\u001b[0m\u001b[0m\n\u001b[1;32m---> 16\u001b[1;33m \u001b[0mmergstr\u001b[0m\u001b[1;33m(\u001b[0m\u001b[0ms1\u001b[0m\u001b[1;33m,\u001b[0m\u001b[0ms2\u001b[0m\u001b[1;33m)\u001b[0m\u001b[1;33m\u001b[0m\u001b[1;33m\u001b[0m\u001b[0m\n\u001b[0m",
      "\u001b[1;32m<ipython-input-3-e5fb44b754b2>\u001b[0m in \u001b[0;36mmergstr\u001b[1;34m(s1, s2)\u001b[0m\n\u001b[0;32m      6\u001b[0m     \u001b[1;32mfor\u001b[0m \u001b[0mi\u001b[0m \u001b[1;32min\u001b[0m \u001b[0mrange\u001b[0m\u001b[1;33m(\u001b[0m\u001b[0mlen\u001b[0m\u001b[1;33m(\u001b[0m\u001b[0ms1\u001b[0m\u001b[1;33m)\u001b[0m\u001b[1;33m+\u001b[0m\u001b[0mlen\u001b[0m\u001b[1;33m(\u001b[0m\u001b[0ms2\u001b[0m\u001b[1;33m)\u001b[0m\u001b[1;33m)\u001b[0m\u001b[1;33m:\u001b[0m\u001b[1;33m\u001b[0m\u001b[1;33m\u001b[0m\u001b[0m\n\u001b[0;32m      7\u001b[0m         \u001b[1;32mif\u001b[0m \u001b[0mi\u001b[0m\u001b[1;33m%\u001b[0m\u001b[1;36m2\u001b[0m\u001b[1;33m==\u001b[0m\u001b[1;36m0\u001b[0m\u001b[1;33m:\u001b[0m\u001b[1;33m\u001b[0m\u001b[1;33m\u001b[0m\u001b[0m\n\u001b[1;32m----> 8\u001b[1;33m             \u001b[0ms3\u001b[0m\u001b[1;33m[\u001b[0m\u001b[0mi\u001b[0m\u001b[1;33m]\u001b[0m\u001b[1;33m=\u001b[0m\u001b[0mstr\u001b[0m\u001b[1;33m(\u001b[0m\u001b[0ms1\u001b[0m\u001b[1;33m[\u001b[0m\u001b[0mj\u001b[0m\u001b[1;33m]\u001b[0m\u001b[1;33m)\u001b[0m\u001b[1;33m\u001b[0m\u001b[1;33m\u001b[0m\u001b[0m\n\u001b[0m\u001b[0;32m      9\u001b[0m         \u001b[1;32melse\u001b[0m\u001b[1;33m:\u001b[0m\u001b[1;33m\u001b[0m\u001b[1;33m\u001b[0m\u001b[0m\n\u001b[0;32m     10\u001b[0m             \u001b[0ms3\u001b[0m\u001b[1;33m[\u001b[0m\u001b[0mi\u001b[0m\u001b[1;33m]\u001b[0m\u001b[1;33m=\u001b[0m\u001b[0mstr\u001b[0m\u001b[1;33m(\u001b[0m\u001b[0ms2\u001b[0m\u001b[1;33m[\u001b[0m\u001b[0mj\u001b[0m\u001b[1;33m-\u001b[0m\u001b[1;36m1\u001b[0m\u001b[1;33m]\u001b[0m\u001b[1;33m)\u001b[0m\u001b[1;33m\u001b[0m\u001b[1;33m\u001b[0m\u001b[0m\n",
      "\u001b[1;31mTypeError\u001b[0m: 'str' object does not support item assignment"
     ]
    }
   ],
   "source": [
    "#7. Merge strings\n",
    "def mergstr(s1,s2):\n",
    "    s3=\"aqwdad\"\n",
    "    i=0\n",
    "    j=0\n",
    "    for i in range(len(s1)+len(s2)):\n",
    "        if i%2==0:\n",
    "            s3[i]=str(s1[j])\n",
    "        else:\n",
    "            s3[i]=str(s2[j-1])\n",
    "        j+=1\n",
    "        print(s3)\n",
    "    return\n",
    "s1=\"abc\"\n",
    "s2=\"xyz\"\n",
    "mergstr(s1,s2)"
   ]
  },
  {
   "cell_type": "code",
   "execution_count": 7,
   "metadata": {},
   "outputs": [
    {
     "name": "stdout",
     "output_type": "stream",
     "text": [
      "1 +2 +6 +24 +120 +"
     ]
    }
   ],
   "source": [
    "# fact sum\n",
    "def factsum(n):\n",
    "    f=1\n",
    "    i=1\n",
    "    while i<=n:\n",
    "        f=f*i\n",
    "        print(f,\"+\",end=\"\")\n",
    "        i+=1\n",
    "    return\n",
    "factsum(5)"
   ]
  },
  {
   "cell_type": "code",
   "execution_count": 2,
   "metadata": {},
   "outputs": [
    {
     "name": "stdout",
     "output_type": "stream",
     "text": [
      "1 !+2 !+3 !+4 !+5 !+"
     ]
    }
   ],
   "source": [
    "#fact sum\n",
    "def factsum(n):\n",
    "    i=1\n",
    "    while i<=n:\n",
    "        print(i,\"!+\",end=\"\")\n",
    "        i+=1\n",
    "    return\n",
    "factsum(5)"
   ]
  }
 ],
 "metadata": {
  "kernelspec": {
   "display_name": "Python 3",
   "language": "python",
   "name": "python3"
  },
  "language_info": {
   "codemirror_mode": {
    "name": "ipython",
    "version": 3
   },
   "file_extension": ".py",
   "mimetype": "text/x-python",
   "name": "python",
   "nbconvert_exporter": "python",
   "pygments_lexer": "ipython3",
   "version": "3.7.3"
  }
 },
 "nbformat": 4,
 "nbformat_minor": 2
}
